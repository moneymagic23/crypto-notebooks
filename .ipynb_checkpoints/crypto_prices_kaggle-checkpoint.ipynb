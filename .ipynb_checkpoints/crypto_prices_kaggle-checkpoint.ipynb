{
 "cells": [
  {
   "cell_type": "markdown",
   "id": "60f65a52-ca1f-4395-a83b-eeb25cf44c91",
   "metadata": {},
   "source": [
    "## Welcome Crypto Analysis Jupyter Notebook \n",
    "In this notebook we will:\n",
    "1. Fetch [Cryptocurrency Hourly Historical Data](https://www.kaggle.com/datasets/lunaticsain/cryptocurrency-hourly-historical-data) downloaded using *kagglehub*\n",
    "2. Exploratory Data Analysis of the two files \"coins.csv\" and \"CryptoHourlyData.csv\""
   ]
  },
  {
   "cell_type": "markdown",
   "id": "59b222d3-e307-4cf8-a0f6-1d3dd095594c",
   "metadata": {},
   "source": [
    "### ONE - Download using kagglehub.\n",
    "* import KaggleApi\n",
    "* install kagglehub\n",
    "* import kagglehub and download the latest version of \"lunaticsain/cryptocurrency-hourly-historical-data\"\n",
    "* import os to check the direcorty where files are stored.\n",
    "* import pandas and read_csv \"coins.csv\" and \"CryptoHourlyData.csv\""
   ]
  },
  {
   "cell_type": "code",
   "execution_count": 47,
   "id": "93104a89-041f-436e-af7f-43d5e2d494f9",
   "metadata": {},
   "outputs": [],
   "source": [
    "from kaggle.api.kaggle_api_extended import KaggleApi\n",
    "\n",
    "api = KaggleApi()\n",
    "api.authenticate()"
   ]
  },
  {
   "cell_type": "code",
   "execution_count": 49,
   "id": "204caf6a-8500-4ef8-8826-df5be3f91baf",
   "metadata": {
    "scrolled": true
   },
   "outputs": [
    {
     "name": "stdout",
     "output_type": "stream",
     "text": [
      "Requirement already satisfied: kagglehub in /opt/anaconda3/lib/python3.12/site-packages (0.3.12)\n",
      "Requirement already satisfied: packaging in /opt/anaconda3/lib/python3.12/site-packages (from kagglehub) (24.1)\n",
      "Requirement already satisfied: pyyaml in /opt/anaconda3/lib/python3.12/site-packages (from kagglehub) (6.0.1)\n",
      "Requirement already satisfied: requests in /opt/anaconda3/lib/python3.12/site-packages (from kagglehub) (2.32.3)\n",
      "Requirement already satisfied: tqdm in /opt/anaconda3/lib/python3.12/site-packages (from kagglehub) (4.66.5)\n",
      "Requirement already satisfied: charset-normalizer<4,>=2 in /opt/anaconda3/lib/python3.12/site-packages (from requests->kagglehub) (3.3.2)\n",
      "Requirement already satisfied: idna<4,>=2.5 in /opt/anaconda3/lib/python3.12/site-packages (from requests->kagglehub) (3.7)\n",
      "Requirement already satisfied: urllib3<3,>=1.21.1 in /opt/anaconda3/lib/python3.12/site-packages (from requests->kagglehub) (2.2.3)\n",
      "Requirement already satisfied: certifi>=2017.4.17 in /opt/anaconda3/lib/python3.12/site-packages (from requests->kagglehub) (2025.1.31)\n",
      "Note: you may need to restart the kernel to use updated packages.\n"
     ]
    }
   ],
   "source": [
    "pip install kagglehub"
   ]
  },
  {
   "cell_type": "code",
   "execution_count": 51,
   "id": "8f2a1b70-9581-4458-a8d9-c06885b5f20b",
   "metadata": {},
   "outputs": [
    {
     "name": "stdout",
     "output_type": "stream",
     "text": [
      "Path to dataset files: /Users/mkelleher/.cache/kagglehub/datasets/lunaticsain/cryptocurrency-hourly-historical-data/versions/2\n"
     ]
    }
   ],
   "source": [
    "import kagglehub\n",
    "\n",
    "# Download latest version\n",
    "path = kagglehub.dataset_download(\"lunaticsain/cryptocurrency-hourly-historical-data\")\n",
    "\n",
    "print(\"Path to dataset files:\", path)"
   ]
  },
  {
   "cell_type": "code",
   "execution_count": 53,
   "id": "35cea864-c5c2-470e-9016-99b15f27da9b",
   "metadata": {},
   "outputs": [
    {
     "name": "stdout",
     "output_type": "stream",
     "text": [
      "['coins.csv', 'CryptoHourlyData.csv']\n"
     ]
    }
   ],
   "source": [
    "import os \n",
    "\n",
    "path = '/Users/mkelleher/.cache/kagglehub/datasets/lunaticsain/cryptocurrency-hourly-historical-data/versions/2'\n",
    "print(os.listdir(path)) # Shows what files are there"
   ]
  },
  {
   "cell_type": "code",
   "execution_count": 55,
   "id": "7a4cfe78-97e8-4a65-ba23-89daf5ec0788",
   "metadata": {
    "scrolled": true
   },
   "outputs": [
    {
     "data": {
      "text/html": [
       "<div>\n",
       "<style scoped>\n",
       "    .dataframe tbody tr th:only-of-type {\n",
       "        vertical-align: middle;\n",
       "    }\n",
       "\n",
       "    .dataframe tbody tr th {\n",
       "        vertical-align: top;\n",
       "    }\n",
       "\n",
       "    .dataframe thead th {\n",
       "        text-align: right;\n",
       "    }\n",
       "</style>\n",
       "<table border=\"1\" class=\"dataframe\">\n",
       "  <thead>\n",
       "    <tr style=\"text-align: right;\">\n",
       "      <th></th>\n",
       "      <th>id</th>\n",
       "      <th>Symbol</th>\n",
       "      <th>name</th>\n",
       "    </tr>\n",
       "  </thead>\n",
       "  <tbody>\n",
       "    <tr>\n",
       "      <th>0</th>\n",
       "      <td>1</td>\n",
       "      <td>AAVE</td>\n",
       "      <td>Aave</td>\n",
       "    </tr>\n",
       "    <tr>\n",
       "      <th>1</th>\n",
       "      <td>2</td>\n",
       "      <td>BTC</td>\n",
       "      <td>Bitcoin</td>\n",
       "    </tr>\n",
       "    <tr>\n",
       "      <th>2</th>\n",
       "      <td>3</td>\n",
       "      <td>ADA</td>\n",
       "      <td>Cardano</td>\n",
       "    </tr>\n",
       "    <tr>\n",
       "      <th>3</th>\n",
       "      <td>4</td>\n",
       "      <td>LINK</td>\n",
       "      <td>Chainlink</td>\n",
       "    </tr>\n",
       "    <tr>\n",
       "      <th>4</th>\n",
       "      <td>5</td>\n",
       "      <td>DOGE</td>\n",
       "      <td>Dogecoin</td>\n",
       "    </tr>\n",
       "    <tr>\n",
       "      <th>5</th>\n",
       "      <td>6</td>\n",
       "      <td>EOS</td>\n",
       "      <td>EOS</td>\n",
       "    </tr>\n",
       "    <tr>\n",
       "      <th>6</th>\n",
       "      <td>7</td>\n",
       "      <td>ETH</td>\n",
       "      <td>Ethereum</td>\n",
       "    </tr>\n",
       "    <tr>\n",
       "      <th>7</th>\n",
       "      <td>8</td>\n",
       "      <td>LTC</td>\n",
       "      <td>Litecoin</td>\n",
       "    </tr>\n",
       "    <tr>\n",
       "      <th>8</th>\n",
       "      <td>9</td>\n",
       "      <td>DOT</td>\n",
       "      <td>Polkadot</td>\n",
       "    </tr>\n",
       "    <tr>\n",
       "      <th>9</th>\n",
       "      <td>10</td>\n",
       "      <td>XLM</td>\n",
       "      <td>Stellar</td>\n",
       "    </tr>\n",
       "  </tbody>\n",
       "</table>\n",
       "</div>"
      ],
      "text/plain": [
       "   id Symbol       name\n",
       "0   1   AAVE       Aave\n",
       "1   2    BTC    Bitcoin\n",
       "2   3    ADA    Cardano\n",
       "3   4   LINK  Chainlink\n",
       "4   5   DOGE   Dogecoin\n",
       "5   6    EOS        EOS\n",
       "6   7    ETH   Ethereum\n",
       "7   8    LTC   Litecoin\n",
       "8   9    DOT   Polkadot\n",
       "9  10    XLM    Stellar"
      ]
     },
     "execution_count": 55,
     "metadata": {},
     "output_type": "execute_result"
    }
   ],
   "source": [
    "import pandas as pd \n",
    "\n",
    "coins = pd.read_csv(os.path.join(path, 'coins.csv'))\n",
    "coins.head(10)"
   ]
  },
  {
   "cell_type": "code",
   "execution_count": 57,
   "id": "2154beda-28cd-44f3-a68a-977875ceb764",
   "metadata": {},
   "outputs": [
    {
     "data": {
      "text/html": [
       "<div>\n",
       "<style scoped>\n",
       "    .dataframe tbody tr th:only-of-type {\n",
       "        vertical-align: middle;\n",
       "    }\n",
       "\n",
       "    .dataframe tbody tr th {\n",
       "        vertical-align: top;\n",
       "    }\n",
       "\n",
       "    .dataframe thead th {\n",
       "        text-align: right;\n",
       "    }\n",
       "</style>\n",
       "<table border=\"1\" class=\"dataframe\">\n",
       "  <thead>\n",
       "    <tr style=\"text-align: right;\">\n",
       "      <th></th>\n",
       "      <th>ID</th>\n",
       "      <th>Date</th>\n",
       "      <th>Time</th>\n",
       "      <th>Open</th>\n",
       "      <th>High</th>\n",
       "      <th>Low</th>\n",
       "      <th>Close</th>\n",
       "    </tr>\n",
       "  </thead>\n",
       "  <tbody>\n",
       "    <tr>\n",
       "      <th>0</th>\n",
       "      <td>1</td>\n",
       "      <td>2023-09-10</td>\n",
       "      <td>00:00:00</td>\n",
       "      <td>56.27</td>\n",
       "      <td>56.29</td>\n",
       "      <td>56.16</td>\n",
       "      <td>56.18</td>\n",
       "    </tr>\n",
       "    <tr>\n",
       "      <th>1</th>\n",
       "      <td>1</td>\n",
       "      <td>2023-09-09</td>\n",
       "      <td>23:00:00</td>\n",
       "      <td>56.27</td>\n",
       "      <td>56.28</td>\n",
       "      <td>56.16</td>\n",
       "      <td>56.26</td>\n",
       "    </tr>\n",
       "    <tr>\n",
       "      <th>2</th>\n",
       "      <td>1</td>\n",
       "      <td>2023-09-09</td>\n",
       "      <td>22:00:00</td>\n",
       "      <td>56.14</td>\n",
       "      <td>56.28</td>\n",
       "      <td>56.12</td>\n",
       "      <td>56.26</td>\n",
       "    </tr>\n",
       "    <tr>\n",
       "      <th>3</th>\n",
       "      <td>1</td>\n",
       "      <td>2023-09-09</td>\n",
       "      <td>21:00:00</td>\n",
       "      <td>56.38</td>\n",
       "      <td>56.38</td>\n",
       "      <td>56.07</td>\n",
       "      <td>56.13</td>\n",
       "    </tr>\n",
       "    <tr>\n",
       "      <th>4</th>\n",
       "      <td>1</td>\n",
       "      <td>2023-09-09</td>\n",
       "      <td>20:00:00</td>\n",
       "      <td>56.20</td>\n",
       "      <td>56.33</td>\n",
       "      <td>56.19</td>\n",
       "      <td>56.31</td>\n",
       "    </tr>\n",
       "  </tbody>\n",
       "</table>\n",
       "</div>"
      ],
      "text/plain": [
       "   ID        Date      Time   Open   High    Low  Close\n",
       "0   1  2023-09-10  00:00:00  56.27  56.29  56.16  56.18\n",
       "1   1  2023-09-09  23:00:00  56.27  56.28  56.16  56.26\n",
       "2   1  2023-09-09  22:00:00  56.14  56.28  56.12  56.26\n",
       "3   1  2023-09-09  21:00:00  56.38  56.38  56.07  56.13\n",
       "4   1  2023-09-09  20:00:00  56.20  56.33  56.19  56.31"
      ]
     },
     "execution_count": 57,
     "metadata": {},
     "output_type": "execute_result"
    }
   ],
   "source": [
    "hourly_data = pd.read_csv(os.path.join(path, 'CryptoHourlyData.csv'))\n",
    "hourly_data.head()"
   ]
  },
  {
   "cell_type": "markdown",
   "id": "6a0a529d-ff93-4618-9e21-cfc94e3baca9",
   "metadata": {},
   "source": [
    "### TWO - Exploratory Data Analysis of the two files "
   ]
  },
  {
   "cell_type": "markdown",
   "id": "3483804c-b7a7-4328-b93f-c3704bd829d6",
   "metadata": {},
   "source": [
    "Under \"coin.csv\" I want to know how many crypto currencies are listed in each column.\n",
    "\n",
    "This DataFrame is fairly small and will be useful to merge with the \"CryptoHourlyData.csv\""
   ]
  },
  {
   "cell_type": "code",
   "execution_count": 95,
   "id": "5c8a409b-4bfc-419f-95ad-05eb328cb9e5",
   "metadata": {},
   "outputs": [
    {
     "name": "stdout",
     "output_type": "stream",
     "text": [
      "Index(['id', 'Symbol', 'name'], dtype='object')\n",
      "Unique id's are:  [ 1  2  3  4  5  6  7  8  9 10 11 12 13 14] and the count is  14\n",
      "Unique Symbols are:  ['AAVE' 'BTC' 'ADA' 'LINK' 'DOGE' 'EOS' 'ETH' 'LTC' 'DOT' 'XLM' 'USDT'\n",
      " 'UNI' 'USDC' 'XRP'] and the count is  14\n",
      "Unique names are:  ['Aave' 'Bitcoin' 'Cardano' 'Chainlink' 'Dogecoin' 'EOS' 'Ethereum'\n",
      " 'Litecoin' 'Polkadot' 'Stellar' 'Tether' 'Uniswap' 'USD-Coin' 'XRP'] and the count is  14\n"
     ]
    }
   ],
   "source": [
    "print(coins.columns)\n",
    "print(\"Unique id's are: \", coins['id'].unique(), \"and the count is \", coins['id'].nunique())\n",
    "print(\"Unique Symbols are: \", coins['Symbol'].unique(), \"and the count is \", coins['Symbol'].nunique())\n",
    "print(\"Unique names are: \", coins['name'].unique(), \"and the count is \", coins['name'].nunique())"
   ]
  },
  {
   "cell_type": "markdown",
   "id": "2a4ed537-34ad-4226-bf83-a2b2be546f92",
   "metadata": {},
   "source": [
    "Under \"CryptoHourlyData.csv\" I want to know\n",
    "* the name of every column\n",
    "* the first and the last date of the column 'Date'"
   ]
  },
  {
   "cell_type": "code",
   "execution_count": 107,
   "id": "7203b1be-007e-4ff9-9db4-86a189b42008",
   "metadata": {},
   "outputs": [
    {
     "name": "stdout",
     "output_type": "stream",
     "text": [
      "Index(['ID', 'Date', 'Time', 'Open', 'High', 'Low', 'Close'], dtype='object')\n",
      "The first date is 2013-10-01\n",
      "The last date is 2023-09-10\n"
     ]
    }
   ],
   "source": [
    "print(hourly_data.columns)\n",
    "print(\"The first date is\", hourly_data['Date'].min())\n",
    "print(\"The last date is\", hourly_data['Date'].max())"
   ]
  },
  {
   "cell_type": "code",
   "execution_count": null,
   "id": "0a1aa0cd-1ef1-486b-adb1-2d77e3ff280b",
   "metadata": {},
   "outputs": [],
   "source": []
  }
 ],
 "metadata": {
  "kernelspec": {
   "display_name": "Python [conda env:base] *",
   "language": "python",
   "name": "conda-base-py"
  },
  "language_info": {
   "codemirror_mode": {
    "name": "ipython",
    "version": 3
   },
   "file_extension": ".py",
   "mimetype": "text/x-python",
   "name": "python",
   "nbconvert_exporter": "python",
   "pygments_lexer": "ipython3",
   "version": "3.12.7"
  }
 },
 "nbformat": 4,
 "nbformat_minor": 5
}
