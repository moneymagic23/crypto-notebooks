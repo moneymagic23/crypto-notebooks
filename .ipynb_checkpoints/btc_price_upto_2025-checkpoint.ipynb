{
 "cells": [
  {
   "cell_type": "code",
   "execution_count": 2,
   "id": "78dade7d-39b6-4772-b799-7e4a3878a9e7",
   "metadata": {},
   "outputs": [],
   "source": [
    "from kaggle.api.kaggle_api_extended import KaggleApi\n",
    "\n",
    "api = KaggleApi()\n",
    "api.authenticate()"
   ]
  },
  {
   "cell_type": "code",
   "execution_count": 4,
   "id": "7ebea1c7-fcff-4755-8989-f38152216578",
   "metadata": {},
   "outputs": [
    {
     "name": "stdout",
     "output_type": "stream",
     "text": [
      "Requirement already satisfied: kagglehub in /opt/anaconda3/lib/python3.12/site-packages (0.3.12)\n",
      "Requirement already satisfied: packaging in /opt/anaconda3/lib/python3.12/site-packages (from kagglehub) (24.1)\n",
      "Requirement already satisfied: pyyaml in /opt/anaconda3/lib/python3.12/site-packages (from kagglehub) (6.0.1)\n",
      "Requirement already satisfied: requests in /opt/anaconda3/lib/python3.12/site-packages (from kagglehub) (2.32.3)\n",
      "Requirement already satisfied: tqdm in /opt/anaconda3/lib/python3.12/site-packages (from kagglehub) (4.66.5)\n",
      "Requirement already satisfied: charset-normalizer<4,>=2 in /opt/anaconda3/lib/python3.12/site-packages (from requests->kagglehub) (3.3.2)\n",
      "Requirement already satisfied: idna<4,>=2.5 in /opt/anaconda3/lib/python3.12/site-packages (from requests->kagglehub) (3.7)\n",
      "Requirement already satisfied: urllib3<3,>=1.21.1 in /opt/anaconda3/lib/python3.12/site-packages (from requests->kagglehub) (2.2.3)\n",
      "Requirement already satisfied: certifi>=2017.4.17 in /opt/anaconda3/lib/python3.12/site-packages (from requests->kagglehub) (2025.1.31)\n",
      "Note: you may need to restart the kernel to use updated packages.\n"
     ]
    }
   ],
   "source": [
    "pip install kagglehub"
   ]
  },
  {
   "cell_type": "code",
   "execution_count": 6,
   "id": "57c7cbb5-c66f-4862-93d8-595e37be614c",
   "metadata": {},
   "outputs": [
    {
     "name": "stdout",
     "output_type": "stream",
     "text": [
      "Path to dataset files: /Users/mkelleher/.cache/kagglehub/datasets/mczielinski/bitcoin-historical-data/versions/222\n"
     ]
    }
   ],
   "source": [
    "import kagglehub\n",
    "\n",
    "# Download latest version\n",
    "path = kagglehub.dataset_download(\"mczielinski/bitcoin-historical-data\")\n",
    "\n",
    "print(\"Path to dataset files:\", path)"
   ]
  },
  {
   "cell_type": "code",
   "execution_count": 8,
   "id": "7194bcfa-1dc2-40aa-aceb-d47db9d11526",
   "metadata": {},
   "outputs": [
    {
     "name": "stdout",
     "output_type": "stream",
     "text": [
      "['btcusd_1-min_data.csv']\n"
     ]
    }
   ],
   "source": [
    "import os \n",
    "\n",
    "path = '/Users/mkelleher/.cache/kagglehub/datasets/mczielinski/bitcoin-historical-data/versions/222'\n",
    "print(os.listdir(path)) # Shows what files are there"
   ]
  },
  {
   "cell_type": "code",
   "execution_count": 10,
   "id": "4a147265-ea8c-47f6-b641-44f27d2a0479",
   "metadata": {},
   "outputs": [
    {
     "name": "stderr",
     "output_type": "stream",
     "text": [
      "/var/folders/k8/wvnm2b295ll2_8_nvl51svtc0000gn/T/ipykernel_59520/2983203903.py:3: DtypeWarning: Columns (6) have mixed types. Specify dtype option on import or set low_memory=False.\n",
      "  btc = pd.read_csv(os.path.join(path, 'btcusd_1-min_data.csv'))\n"
     ]
    },
    {
     "data": {
      "text/html": [
       "<div>\n",
       "<style scoped>\n",
       "    .dataframe tbody tr th:only-of-type {\n",
       "        vertical-align: middle;\n",
       "    }\n",
       "\n",
       "    .dataframe tbody tr th {\n",
       "        vertical-align: top;\n",
       "    }\n",
       "\n",
       "    .dataframe thead th {\n",
       "        text-align: right;\n",
       "    }\n",
       "</style>\n",
       "<table border=\"1\" class=\"dataframe\">\n",
       "  <thead>\n",
       "    <tr style=\"text-align: right;\">\n",
       "      <th></th>\n",
       "      <th>Timestamp</th>\n",
       "      <th>Open</th>\n",
       "      <th>High</th>\n",
       "      <th>Low</th>\n",
       "      <th>Close</th>\n",
       "      <th>Volume</th>\n",
       "      <th>datetime</th>\n",
       "    </tr>\n",
       "  </thead>\n",
       "  <tbody>\n",
       "    <tr>\n",
       "      <th>0</th>\n",
       "      <td>1.325412e+09</td>\n",
       "      <td>4.58</td>\n",
       "      <td>4.58</td>\n",
       "      <td>4.58</td>\n",
       "      <td>4.58</td>\n",
       "      <td>0.0</td>\n",
       "      <td>2012-01-01 10:01:00+00:00</td>\n",
       "    </tr>\n",
       "    <tr>\n",
       "      <th>1</th>\n",
       "      <td>1.325412e+09</td>\n",
       "      <td>4.58</td>\n",
       "      <td>4.58</td>\n",
       "      <td>4.58</td>\n",
       "      <td>4.58</td>\n",
       "      <td>0.0</td>\n",
       "      <td>2012-01-01 10:02:00+00:00</td>\n",
       "    </tr>\n",
       "    <tr>\n",
       "      <th>2</th>\n",
       "      <td>1.325412e+09</td>\n",
       "      <td>4.58</td>\n",
       "      <td>4.58</td>\n",
       "      <td>4.58</td>\n",
       "      <td>4.58</td>\n",
       "      <td>0.0</td>\n",
       "      <td>2012-01-01 10:03:00+00:00</td>\n",
       "    </tr>\n",
       "    <tr>\n",
       "      <th>3</th>\n",
       "      <td>1.325412e+09</td>\n",
       "      <td>4.58</td>\n",
       "      <td>4.58</td>\n",
       "      <td>4.58</td>\n",
       "      <td>4.58</td>\n",
       "      <td>0.0</td>\n",
       "      <td>2012-01-01 10:04:00+00:00</td>\n",
       "    </tr>\n",
       "    <tr>\n",
       "      <th>4</th>\n",
       "      <td>1.325412e+09</td>\n",
       "      <td>4.58</td>\n",
       "      <td>4.58</td>\n",
       "      <td>4.58</td>\n",
       "      <td>4.58</td>\n",
       "      <td>0.0</td>\n",
       "      <td>2012-01-01 10:05:00+00:00</td>\n",
       "    </tr>\n",
       "    <tr>\n",
       "      <th>5</th>\n",
       "      <td>1.325412e+09</td>\n",
       "      <td>4.58</td>\n",
       "      <td>4.58</td>\n",
       "      <td>4.58</td>\n",
       "      <td>4.58</td>\n",
       "      <td>0.0</td>\n",
       "      <td>2012-01-01 10:06:00+00:00</td>\n",
       "    </tr>\n",
       "    <tr>\n",
       "      <th>6</th>\n",
       "      <td>1.325412e+09</td>\n",
       "      <td>4.58</td>\n",
       "      <td>4.58</td>\n",
       "      <td>4.58</td>\n",
       "      <td>4.58</td>\n",
       "      <td>0.0</td>\n",
       "      <td>2012-01-01 10:07:00+00:00</td>\n",
       "    </tr>\n",
       "    <tr>\n",
       "      <th>7</th>\n",
       "      <td>1.325412e+09</td>\n",
       "      <td>4.58</td>\n",
       "      <td>4.58</td>\n",
       "      <td>4.58</td>\n",
       "      <td>4.58</td>\n",
       "      <td>0.0</td>\n",
       "      <td>2012-01-01 10:08:00+00:00</td>\n",
       "    </tr>\n",
       "    <tr>\n",
       "      <th>8</th>\n",
       "      <td>1.325413e+09</td>\n",
       "      <td>4.58</td>\n",
       "      <td>4.58</td>\n",
       "      <td>4.58</td>\n",
       "      <td>4.58</td>\n",
       "      <td>0.0</td>\n",
       "      <td>2012-01-01 10:09:00+00:00</td>\n",
       "    </tr>\n",
       "    <tr>\n",
       "      <th>9</th>\n",
       "      <td>1.325413e+09</td>\n",
       "      <td>4.58</td>\n",
       "      <td>4.58</td>\n",
       "      <td>4.58</td>\n",
       "      <td>4.58</td>\n",
       "      <td>0.0</td>\n",
       "      <td>2012-01-01 10:10:00+00:00</td>\n",
       "    </tr>\n",
       "  </tbody>\n",
       "</table>\n",
       "</div>"
      ],
      "text/plain": [
       "      Timestamp  Open  High   Low  Close  Volume                   datetime\n",
       "0  1.325412e+09  4.58  4.58  4.58   4.58     0.0  2012-01-01 10:01:00+00:00\n",
       "1  1.325412e+09  4.58  4.58  4.58   4.58     0.0  2012-01-01 10:02:00+00:00\n",
       "2  1.325412e+09  4.58  4.58  4.58   4.58     0.0  2012-01-01 10:03:00+00:00\n",
       "3  1.325412e+09  4.58  4.58  4.58   4.58     0.0  2012-01-01 10:04:00+00:00\n",
       "4  1.325412e+09  4.58  4.58  4.58   4.58     0.0  2012-01-01 10:05:00+00:00\n",
       "5  1.325412e+09  4.58  4.58  4.58   4.58     0.0  2012-01-01 10:06:00+00:00\n",
       "6  1.325412e+09  4.58  4.58  4.58   4.58     0.0  2012-01-01 10:07:00+00:00\n",
       "7  1.325412e+09  4.58  4.58  4.58   4.58     0.0  2012-01-01 10:08:00+00:00\n",
       "8  1.325413e+09  4.58  4.58  4.58   4.58     0.0  2012-01-01 10:09:00+00:00\n",
       "9  1.325413e+09  4.58  4.58  4.58   4.58     0.0  2012-01-01 10:10:00+00:00"
      ]
     },
     "execution_count": 10,
     "metadata": {},
     "output_type": "execute_result"
    }
   ],
   "source": [
    "import pandas as pd \n",
    "\n",
    "btc = pd.read_csv(os.path.join(path, 'btcusd_1-min_data.csv'))\n",
    "btc.head(10)"
   ]
  },
  {
   "cell_type": "code",
   "execution_count": 12,
   "id": "0b64f215-e03c-4a53-a8bf-190cb1e8a2b2",
   "metadata": {},
   "outputs": [],
   "source": [
    "# Convert Timestamp to datetime and overwrite the original datetime column\n",
    "btc['datetime'] = pd.to_datetime(btc['Timestamp'], unit='s')\n",
    "# Set the new datetime column as the index\n",
    "btc.set_index('datetime', inplace=True)\n",
    "# Drop Timestamp column that holds the Unix data\n",
    "btc.drop(columns=['Timestamp'], inplace=True)  # optional\n"
   ]
  },
  {
   "cell_type": "code",
   "execution_count": 13,
   "id": "13597d77-1d10-4d3e-940b-7eb67f1aa339",
   "metadata": {},
   "outputs": [
    {
     "data": {
      "text/html": [
       "<div>\n",
       "<style scoped>\n",
       "    .dataframe tbody tr th:only-of-type {\n",
       "        vertical-align: middle;\n",
       "    }\n",
       "\n",
       "    .dataframe tbody tr th {\n",
       "        vertical-align: top;\n",
       "    }\n",
       "\n",
       "    .dataframe thead th {\n",
       "        text-align: right;\n",
       "    }\n",
       "</style>\n",
       "<table border=\"1\" class=\"dataframe\">\n",
       "  <thead>\n",
       "    <tr style=\"text-align: right;\">\n",
       "      <th></th>\n",
       "      <th>Open</th>\n",
       "      <th>High</th>\n",
       "      <th>Low</th>\n",
       "      <th>Close</th>\n",
       "      <th>Volume</th>\n",
       "    </tr>\n",
       "    <tr>\n",
       "      <th>datetime</th>\n",
       "      <th></th>\n",
       "      <th></th>\n",
       "      <th></th>\n",
       "      <th></th>\n",
       "      <th></th>\n",
       "    </tr>\n",
       "  </thead>\n",
       "  <tbody>\n",
       "    <tr>\n",
       "      <th>2012-01-01 10:01:00</th>\n",
       "      <td>4.58</td>\n",
       "      <td>4.58</td>\n",
       "      <td>4.58</td>\n",
       "      <td>4.58</td>\n",
       "      <td>0.0</td>\n",
       "    </tr>\n",
       "    <tr>\n",
       "      <th>2012-01-01 10:02:00</th>\n",
       "      <td>4.58</td>\n",
       "      <td>4.58</td>\n",
       "      <td>4.58</td>\n",
       "      <td>4.58</td>\n",
       "      <td>0.0</td>\n",
       "    </tr>\n",
       "    <tr>\n",
       "      <th>2012-01-01 10:03:00</th>\n",
       "      <td>4.58</td>\n",
       "      <td>4.58</td>\n",
       "      <td>4.58</td>\n",
       "      <td>4.58</td>\n",
       "      <td>0.0</td>\n",
       "    </tr>\n",
       "    <tr>\n",
       "      <th>2012-01-01 10:04:00</th>\n",
       "      <td>4.58</td>\n",
       "      <td>4.58</td>\n",
       "      <td>4.58</td>\n",
       "      <td>4.58</td>\n",
       "      <td>0.0</td>\n",
       "    </tr>\n",
       "    <tr>\n",
       "      <th>2012-01-01 10:05:00</th>\n",
       "      <td>4.58</td>\n",
       "      <td>4.58</td>\n",
       "      <td>4.58</td>\n",
       "      <td>4.58</td>\n",
       "      <td>0.0</td>\n",
       "    </tr>\n",
       "  </tbody>\n",
       "</table>\n",
       "</div>"
      ],
      "text/plain": [
       "                     Open  High   Low  Close  Volume\n",
       "datetime                                            \n",
       "2012-01-01 10:01:00  4.58  4.58  4.58   4.58     0.0\n",
       "2012-01-01 10:02:00  4.58  4.58  4.58   4.58     0.0\n",
       "2012-01-01 10:03:00  4.58  4.58  4.58   4.58     0.0\n",
       "2012-01-01 10:04:00  4.58  4.58  4.58   4.58     0.0\n",
       "2012-01-01 10:05:00  4.58  4.58  4.58   4.58     0.0"
      ]
     },
     "execution_count": 13,
     "metadata": {},
     "output_type": "execute_result"
    }
   ],
   "source": [
    "btc.head()"
   ]
  },
  {
   "cell_type": "code",
   "execution_count": 16,
   "id": "32fc5fac-9d84-450f-98a9-e1a7160c02c4",
   "metadata": {},
   "outputs": [],
   "source": [
    "# filter data set to just the prices in 2024\n",
    "btc_2024 = btc.loc['2024']"
   ]
  },
  {
   "cell_type": "code",
   "execution_count": 18,
   "id": "9f7ff5fe-d36e-4b66-877d-947bae62067d",
   "metadata": {},
   "outputs": [],
   "source": [
    "# filter data from btc_2024 to have only Friday's data from 20:00:00\n",
    "friday_data = btc_2024[btc_2024.index.dayofweek == 4] # 4 = Friday \n",
    "friday_data_20 = friday_data[(friday_data.index.hour == 20) & (friday_data.index.minute == 0) ]\n",
    "\n",
    "#filter data from btc_2024 to have only Mondays data from 00:00:00\n",
    "monday_data = btc_2024[btc_2024.index.dayofweek == 0]   # 0 = Monday \n",
    "monday_data_midnight = monday_data[(monday_data.index.hour == 0) & (monday_data.index.minute == 0)]"
   ]
  },
  {
   "cell_type": "code",
   "execution_count": 33,
   "id": "ea043f2e-3827-41db-b3ca-c5840e771873",
   "metadata": {},
   "outputs": [],
   "source": [
    "#Shift Mondays back to line up with Fridays for comparison\n",
    "monday_data_midnight = monday_data_midnight.copy()\n",
    "monday_data_midnight['shifted_index'] = monday_data_midnight.index - pd.Timedelta(days=2, hours=4)\n",
    "# Set Friday index for merge \n",
    "friday_data_20 = friday_data_20.copy()\n",
    "friday_data_20['date'] = friday_data_20.index"
   ]
  },
  {
   "cell_type": "code",
   "execution_count": 37,
   "id": "a43ca575-067f-4d8f-800c-ca36fff5c02d",
   "metadata": {},
   "outputs": [
    {
     "name": "stdout",
     "output_type": "stream",
     "text": [
      "               Open     High      Low    Close    Volume       shifted_index\n",
      "datetime                                                                    \n",
      "2024-01-01  42652.0  42655.0  42651.0  42651.0  0.014804 2023-12-29 20:00:00\n",
      "2024-01-08  44123.0  44123.0  44123.0  44123.0  0.460696 2024-01-05 20:00:00\n",
      "2024-01-15  42886.0  42886.0  42878.0  42878.0  0.012416 2024-01-12 20:00:00\n",
      "2024-01-22  41664.0  41665.0  41664.0  41665.0  0.028620 2024-01-19 20:00:00\n",
      "2024-01-29  41963.0  41964.0  41946.0  41946.0  0.591651 2024-01-26 20:00:00\n",
      "                        Open     High      Low    Close    Volume  \\\n",
      "datetime                                                            \n",
      "2024-01-05 20:00:00  43517.0  43609.0  43517.0  43587.0  2.433472   \n",
      "2024-01-12 20:00:00  45466.0  45469.0  45411.0  45411.0  1.291989   \n",
      "2024-01-19 20:00:00  40933.0  40992.0  40928.0  40970.0  0.031118   \n",
      "2024-01-26 20:00:00  41563.0  41563.0  41452.0  41452.0  2.540599   \n",
      "2024-02-02 20:00:00  42775.0  42784.0  42735.0  42735.0  4.341982   \n",
      "\n",
      "                                   date  \n",
      "datetime                                 \n",
      "2024-01-05 20:00:00 2024-01-05 20:00:00  \n",
      "2024-01-12 20:00:00 2024-01-12 20:00:00  \n",
      "2024-01-19 20:00:00 2024-01-19 20:00:00  \n",
      "2024-01-26 20:00:00 2024-01-26 20:00:00  \n",
      "2024-02-02 20:00:00 2024-02-02 20:00:00  \n"
     ]
    }
   ],
   "source": [
    "print(monday_data_midnight.head())\n",
    "print(friday_data_20.head())"
   ]
  },
  {
   "cell_type": "code",
   "execution_count": 45,
   "id": "c2d5caef-23ae-4fe4-897f-40dbf04476e0",
   "metadata": {},
   "outputs": [],
   "source": [
    "merged = pd.merge(\n",
    "    friday_data_20,\n",
    "    monday_data_midnight,\n",
    "    left_on = 'date',\n",
    "    right_on = 'shifted_index',\n",
    "    suffixes = ('_friday', '_monday')\n",
    ")"
   ]
  },
  {
   "cell_type": "code",
   "execution_count": 47,
   "id": "0b4ffd27-ddf3-458b-be72-d27dd19f2bc4",
   "metadata": {},
   "outputs": [
    {
     "name": "stdout",
     "output_type": "stream",
     "text": [
      "   Open_friday  High_friday  Low_friday  Close_friday  Volume_friday  \\\n",
      "0      43517.0      43609.0     43517.0       43587.0       2.433472   \n",
      "1      45466.0      45469.0     45411.0       45411.0       1.291989   \n",
      "2      40933.0      40992.0     40928.0       40970.0       0.031118   \n",
      "3      41563.0      41563.0     41452.0       41452.0       2.540599   \n",
      "4      42775.0      42784.0     42735.0       42735.0       4.341982   \n",
      "\n",
      "                 date  Open_monday  High_monday  Low_monday  Close_monday  \\\n",
      "0 2024-01-05 20:00:00      44123.0      44123.0     44123.0       44123.0   \n",
      "1 2024-01-12 20:00:00      42886.0      42886.0     42878.0       42878.0   \n",
      "2 2024-01-19 20:00:00      41664.0      41665.0     41664.0       41665.0   \n",
      "3 2024-01-26 20:00:00      41963.0      41964.0     41946.0       41946.0   \n",
      "4 2024-02-02 20:00:00      42770.0      42777.0     42770.0       42777.0   \n",
      "\n",
      "   Volume_monday       shifted_index  \n",
      "0       0.460696 2024-01-05 20:00:00  \n",
      "1       0.012416 2024-01-12 20:00:00  \n",
      "2       0.028620 2024-01-19 20:00:00  \n",
      "3       0.591651 2024-01-26 20:00:00  \n",
      "4       0.015494 2024-02-02 20:00:00  \n"
     ]
    }
   ],
   "source": [
    "print(merged.head())"
   ]
  },
  {
   "cell_type": "code",
   "execution_count": 51,
   "id": "6c685243-30a9-4cfd-9000-e68914689dac",
   "metadata": {},
   "outputs": [],
   "source": [
    "merged['price_change'] = merged['Open_monday'] - merged['Close_friday']\n",
    "merged['percent_change'] = (merged['price_change'] / merged['Open_friday']) * 100\n"
   ]
  },
  {
   "cell_type": "code",
   "execution_count": 53,
   "id": "b83c308f-8640-44a0-ab96-068aff48af83",
   "metadata": {},
   "outputs": [
    {
     "data": {
      "image/png": "[encoded data removed]",
      "text/plain": [
       "<Figure size 1000x500 with 1 Axes>"
      ]
     },
     "metadata": {},
     "output_type": "display_data"
    }
   ],
   "source": [
    "import matplotlib.pyplot as plt\n",
    "\n",
    "plt.figure(figsize=(10, 5))\n",
    "plt.plot(merged['date'], merged['percent_change'], marker='o')\n",
    "plt.axhline(0, color='gray', linestyle='--')\n",
    "plt.title('BTC Price % Change (Friday 20:00 to Monday 00:00)')\n",
    "plt.ylabel('Percent Change')\n",
    "plt.xlabel('Friday Date')\n",
    "plt.grid(True)\n",
    "plt.tight_layout()\n",
    "plt.show()\n"
   ]
  },
  {
   "cell_type": "code",
   "execution_count": null,
   "id": "a765b967-9315-4562-b49a-cf6b98e437a2",
   "metadata": {},
   "outputs": [],
   "source": []
  }
 ],
 "metadata": {
  "kernelspec": {
   "display_name": "Python [conda env:base] *",
   "language": "python",
   "name": "conda-base-py"
  },
  "language_info": {
   "codemirror_mode": {
    "name": "ipython",
    "version": 3
   },
   "file_extension": ".py",
   "mimetype": "text/x-python",
   "name": "python",
   "nbconvert_exporter": "python",
   "pygments_lexer": "ipython3",
   "version": "3.12.7"
  }
 },
 "nbformat": 4,
 "nbformat_minor": 5
}
